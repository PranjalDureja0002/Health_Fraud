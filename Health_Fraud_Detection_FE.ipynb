{
 "cells": [
  {
   "cell_type": "code",
   "execution_count": 1,
   "metadata": {},
   "outputs": [],
   "source": [
    "import warnings \n",
    "warnings.filterwarnings(\"ignore\") \n",
    "import pandas as pd\n",
    "import numpy as np\n",
    "import matplotlib\n",
    "import matplotlib.pyplot as plt\n",
    "import seaborn as sns"
   ]
  },
  {
   "cell_type": "code",
   "execution_count": 2,
   "metadata": {},
   "outputs": [
    {
     "name": "stdout",
     "output_type": "stream",
     "text": [
      "train_data_beneficiary :  (138556, 25)\n",
      "train_data_inpatient :  (40474, 30)\n",
      "train_data_outpatient :  (517737, 27)\n",
      "label_data :  (5410, 2)\n"
     ]
    }
   ],
   "source": [
    "train_d_beneficiary = pd.read_csv('health_cs_data/Train_Beneficiarydata-1542865627584.csv')\n",
    "train_d_inpatient = pd.read_csv('health_cs_data/Train_Inpatientdata-1542865627584.csv')\n",
    "train_d_outpatient = pd.read_csv('health_cs_data/Train_Outpatientdata-1542865627584.csv')\n",
    "label_d_data = pd.read_csv('health_cs_data/Train-1542865627584.csv')\n",
    "\n",
    "\n",
    "print(\"train_data_beneficiary : \",train_d_beneficiary.shape)\n",
    "print(\"train_data_inpatient : \",train_d_inpatient.shape)\n",
    "print(\"train_data_outpatient : \",train_d_outpatient.shape)\n",
    "print(\"label_data : \",label_d_data.shape)"
   ]
  },
  {
   "cell_type": "markdown",
   "metadata": {},
   "source": [
    "Feature Engineering"
   ]
  },
  {
   "cell_type": "markdown",
   "metadata": {},
   "source": [
    "Now a major factor is determining which features I include is the percentage of Null values present.\n",
    "-> A feature 'is_beneficiary_present' is not required as %age null values are 0 meaning it is always present.\n",
    "-> A feature 'is_operating_physician_present' makes sense as there are 79% null values here. "
   ]
  },
  {
   "cell_type": "markdown",
   "metadata": {},
   "source": [
    "1. Feature 'whether_admitted'::\n",
    "   For inpatients the value will be 1 and for outpatients it will be 0 "
   ]
  },
  {
   "cell_type": "code",
   "execution_count": 3,
   "metadata": {},
   "outputs": [],
   "source": [
    "train_d_inpatient['whether_admitted'] = 1\n",
    "train_d_outpatient['whether_admitted'] = 0"
   ]
  },
  {
   "cell_type": "code",
   "execution_count": 11,
   "metadata": {},
   "outputs": [],
   "source": [
    "patient_data = pd.merge(train_d_inpatient, train_d_outpatient, left_on = [ col for col in train_d_outpatient.columns if col in train_d_inpatient.columns], \\\n",
    "                    right_on = [ col for col in train_d_outpatient.columns if col in train_d_inpatient.columns], how = 'outer')"
   ]
  },
  {
   "cell_type": "code",
   "execution_count": 12,
   "metadata": {},
   "outputs": [],
   "source": [
    "patient_data = pd.merge(patient_data,train_d_beneficiary,how='inner',on='BeneID' ).\\\n",
    "              merge(label_d_data,how='outer',on='Provider')"
   ]
  },
  {
   "cell_type": "markdown",
   "metadata": {},
   "source": [
    "%age null values in date_of_death column are 99.25%, so I'll include 'is_dead' as a feature\n",
    "-> wherever 'nan' is present,it may mean that either the person is alive or the data is missing.I'll replace a non null value with 1 meaning the person is dead. Else with 0.\n",
    "\n",
    "I'll include 'is_alive' as a feature based on the fact that if dod column has non null values,means he is not alive.(equal to 0) else 1."
   ]
  },
  {
   "cell_type": "markdown",
   "metadata": {},
   "source": [
    "2. Features 'is_dead' and 'is_alive'::\n",
    "   For patients with Date_of_Death as NaN,it is 0, else 1 "
   ]
  },
  {
   "cell_type": "code",
   "execution_count": 13,
   "metadata": {},
   "outputs": [],
   "source": [
    "patient_data.loc[patient_data.DOD.notna(),'is_dead'] = 1\n",
    "patient_data['is_dead']= 0"
   ]
  },
  {
   "cell_type": "code",
   "execution_count": 36,
   "metadata": {},
   "outputs": [],
   "source": [
    "patient_data.loc[patient_data.DOD.notna(),'is_alive'] = 0\n",
    "patient_data['is_alive']= 1"
   ]
  },
  {
   "cell_type": "markdown",
   "metadata": {},
   "source": [
    "Now I'll add some features which showed a clearer picture is capturing whether a claim is fraud or not in my EDA analysis"
   ]
  },
  {
   "cell_type": "markdown",
   "metadata": {},
   "source": [
    "3. Feature 'attendphysician_count'\n",
    "       It implies,the number of times a physician attended a patient.In my EDA analysis, it was evident that if the count is more then it  might be a potential fraud"
   ]
  },
  {
   "cell_type": "code",
   "execution_count": 14,
   "metadata": {},
   "outputs": [],
   "source": [
    "att_physician_count = patient_data['AttendingPhysician'].value_counts().to_dict()\n",
    "patient_data['attend_physician_count']=patient_data['AttendingPhysician'].map(att_physician_count)"
   ]
  },
  {
   "cell_type": "markdown",
   "metadata": {},
   "source": [
    "4. Feature 'operate_physician_count'\n",
    "It implies,the number of times a physician operated.In my EDA analysis, it was evident that if the count is more then it might be a potential fraud"
   ]
  },
  {
   "cell_type": "code",
   "execution_count": 15,
   "metadata": {},
   "outputs": [],
   "source": [
    "oper_physician_count = patient_data['OperatingPhysician'].value_counts().to_dict()\n",
    "patient_data['operate_physician_count']=patient_data['OperatingPhysician'].map(oper_physician_count)"
   ]
  },
  {
   "cell_type": "markdown",
   "metadata": {},
   "source": [
    "5. Feature 'BeneID_count'\n",
    "       It implies,the number of times a beneficiary submitted claims.In my EDA analysis, it was evident that if the count is more then it might be a potential fraud. Though a clear demarcation as in physician_count was not obtained here in my EDA."
   ]
  },
  {
   "cell_type": "code",
   "execution_count": 16,
   "metadata": {},
   "outputs": [],
   "source": [
    "ben_count = patient_data['BeneID'].value_counts().to_dict()\n",
    "patient_data['BeneID_count']=patient_data['BeneID'].map(ben_count)"
   ]
  },
  {
   "cell_type": "markdown",
   "metadata": {},
   "source": [
    "6. Feature 'provider_count'\n",
    "       It implies,the number of times a provider gave services.In my EDA analysis, it was evident that if the count is more then it might be a potential fraud. And a clear demarcation was obtained here in my EDA which shows it is a useful feature"
   ]
  },
  {
   "cell_type": "code",
   "execution_count": 17,
   "metadata": {},
   "outputs": [],
   "source": [
    "prov_count = patient_data['Provider'].value_counts().to_dict()\n",
    "patient_data['provider_count']=patient_data['Provider'].map(prov_count)"
   ]
  },
  {
   "cell_type": "markdown",
   "metadata": {},
   "source": [
    "7. Feature 'Claim_days'\n",
    "       It implies,the number of days it took for a claim to be reimbursed.In my EDA analysis, it was evident that if the days are more then it might be a potential fraud,though it was not necessary."
   ]
  },
  {
   "cell_type": "code",
   "execution_count": 18,
   "metadata": {},
   "outputs": [],
   "source": [
    "patient_data['Claim_Start'] = pd.to_datetime(patient_data['ClaimStartDt'] , format = '%Y-%m-%d')\n",
    "patient_data['Claim_End'] = pd.to_datetime(patient_data['ClaimEndDt'],format = '%Y-%m-%d')\n",
    "\n",
    "patient_data['DOB'] = pd.to_datetime(patient_data['DOB'] , format = '%Y-%m-%d')\n",
    "patient_data['DOD'] = pd.to_datetime(patient_data['DOD'],format = '%Y-%m-%d')"
   ]
  },
  {
   "cell_type": "code",
   "execution_count": 19,
   "metadata": {},
   "outputs": [],
   "source": [
    "patient_data['Claim_Days'] = ((patient_data['Claim_End'] - patient_data['Claim_Start']).dt.days) + 1"
   ]
  },
  {
   "cell_type": "markdown",
   "metadata": {},
   "source": [
    "8. Feature 'hospitalization_days'\n",
    "       It implies,the number of days patient was admitted.In my EDA analysis, it was evident that if the days are more then it is a potential fraud."
   ]
  },
  {
   "cell_type": "code",
   "execution_count": 20,
   "metadata": {},
   "outputs": [],
   "source": [
    "patient_data['Admission_Date'] = pd.to_datetime(patient_data['AdmissionDt'] , format = '%Y-%m-%d')\n",
    "patient_data['Discharge_Date'] = pd.to_datetime(patient_data['DischargeDt'],format = '%Y-%m-%d')\n",
    "patient_data['hospitalization_days'] = ((patient_data['Discharge_Date'] - patient_data['Admission_Date']).dt.days) + 1"
   ]
  },
  {
   "cell_type": "markdown",
   "metadata": {},
   "source": [
    "9. Feature 'total_diff_amount'\n",
    "       Firstly i'll sum the i/p and o/p reimbursement amounts, then i/p and o/p deductible amounts. Finally the total_diff_amount will be the difference of the two.\n",
    "       "
   ]
  },
  {
   "cell_type": "code",
   "execution_count": 21,
   "metadata": {},
   "outputs": [],
   "source": [
    "reimb_amount = patient_data['IPAnnualReimbursementAmt'] + patient_data['OPAnnualReimbursementAmt']\n",
    "deduct_amount = patient_data['IPAnnualDeductibleAmt'] + patient_data['OPAnnualDeductibleAmt']\n",
    "patient_data['total_diff_amount'] = reimb_amount - deduct_amount"
   ]
  },
  {
   "cell_type": "markdown",
   "metadata": {},
   "source": [
    "10. Now I'll include the top 7 diagnosis codes and 7 procedure codes as my 14 new features with a 0/1 value. "
   ]
  },
  {
   "cell_type": "code",
   "execution_count": 22,
   "metadata": {},
   "outputs": [],
   "source": [
    "diagnosis_codes = patient_data[['ClmDiagnosisCode_1', 'ClmDiagnosisCode_2', 'ClmDiagnosisCode_3',\n",
    "       'ClmDiagnosisCode_4', 'ClmDiagnosisCode_5', 'ClmDiagnosisCode_6',\n",
    "       'ClmDiagnosisCode_7', 'ClmDiagnosisCode_8', 'ClmDiagnosisCode_9',\n",
    "       'ClmDiagnosisCode_10']]\n",
    "\n",
    "procedure_codes = patient_data[['ClmProcedureCode_1','ClmProcedureCode_2','ClmProcedureCode_3','ClmProcedureCode_4','ClmProcedureCode_5','ClmProcedureCode_6']]"
   ]
  },
  {
   "cell_type": "code",
   "execution_count": 23,
   "metadata": {},
   "outputs": [],
   "source": [
    "Seven_diag_codes = ['4019','25000','2724','V5869','4011','42731','V5861']  # from EDA    "
   ]
  },
  {
   "cell_type": "code",
   "execution_count": 24,
   "metadata": {},
   "outputs": [
    {
     "data": {
      "text/plain": [
       "4019.0    1959\n",
       "9904.0    1152\n",
       "2724.0    1054\n",
       "8154.0    1022\n",
       "66.0       901\n",
       "3893.0     854\n",
       "3995.0     809\n",
       "4516.0     651\n",
       "3722.0     589\n",
       "8151.0     463\n",
       "Name: procedure, dtype: int64"
      ]
     },
     "execution_count": 24,
     "metadata": {},
     "output_type": "execute_result"
    }
   ],
   "source": [
    "patient_df = pd.DataFrame(columns = ['procedure'])\n",
    "patient_df['procedure'] = pd.concat([patient_data[\"ClmProcedureCode_1\"],patient_data[\"ClmProcedureCode_2\"],patient_data[\"ClmProcedureCode_3\"],patient_data[\"ClmProcedureCode_4\"],patient_data[\"ClmProcedureCode_5\"],patient_data[\"ClmProcedureCode_6\"]],axis=0)\n",
    "patient_df = patient_df.dropna()\n",
    "\n",
    "patient_df['procedure'].value_counts().head(10)"
   ]
  },
  {
   "cell_type": "code",
   "execution_count": 25,
   "metadata": {},
   "outputs": [],
   "source": [
    "Seven_proced_codes = ['4019.0','9904.0','2724.0','8154.0','66.0','3893.0','3995.0']"
   ]
  },
  {
   "cell_type": "code",
   "execution_count": 26,
   "metadata": {},
   "outputs": [],
   "source": [
    "for i in Seven_proced_codes:\n",
    "    patient_data['Proc_Code_'+str(i)] = np.where(patient_data['ClmProcedureCode_1']==float(i),1,0)\n",
    "    patient_data['Proc_Code_'+str(i)] = np.where(patient_data['ClmProcedureCode_2']==float(i),1,np.where(patient_data['Proc_Code_'+str(i)]==1,1,0 ))\n",
    "    patient_data['Proc_Code_'+str(i)] = np.where(patient_data['ClmProcedureCode_3']==float(i),1,np.where(patient_data['Proc_Code_'+str(i)]==1,1,0 ))\n",
    "    patient_data['Proc_Code_'+str(i)] = np.where(patient_data['ClmProcedureCode_4']==float(i),1,np.where(patient_data['Proc_Code_'+str(i)]==1,1,0 ))\n",
    "    patient_data['Proc_Code_'+str(i)] = np.where(patient_data['ClmProcedureCode_5']==float(i),1,np.where(patient_data['Proc_Code_'+str(i)]==1,1,0 ))\n",
    "    patient_data['Proc_Code_'+str(i)] = np.where(patient_data['ClmProcedureCode_6']==float(i),1,np.where(patient_data['Proc_Code_'+str(i)]==1,1,0 ))\n",
    "    "
   ]
  },
  {
   "cell_type": "code",
   "execution_count": 27,
   "metadata": {},
   "outputs": [],
   "source": [
    "for i in Seven_diag_codes:\n",
    "    patient_data['Diag_Code_'+str(i)] = np.where(patient_data['ClmDiagnosisCode_1']==i,1,0)\n",
    "    patient_data['Diag_Code_'+str(i)] = np.where(patient_data['ClmDiagnosisCode_2']==i,1,np.where(patient_data['Diag_Code_'+str(i)]==1,1,0 ))\n",
    "    patient_data['Diag_Code_'+str(i)] = np.where(patient_data['ClmDiagnosisCode_3']==i,1,np.where(patient_data['Diag_Code_'+str(i)]==1,1,0 ))\n",
    "    patient_data['Diag_Code_'+str(i)] = np.where(patient_data['ClmDiagnosisCode_4']==i,1,np.where(patient_data['Diag_Code_'+str(i)]==1,1,0 ))\n",
    "    patient_data['Diag_Code_'+str(i)] = np.where(patient_data['ClmDiagnosisCode_5']==i,1,np.where(patient_data['Diag_Code_'+str(i)]==1,1,0 ))\n",
    "    patient_data['Diag_Code_'+str(i)] = np.where(patient_data['ClmDiagnosisCode_6']==i,1,np.where(patient_data['Diag_Code_'+str(i)]==1,1,0 ))\n",
    "    patient_data['Diag_Code_'+str(i)] = np.where(patient_data['ClmDiagnosisCode_7']==i,1,np.where(patient_data['Diag_Code_'+str(i)]==1,1,0 ))\n",
    "    patient_data['Diag_Code_'+str(i)] = np.where(patient_data['ClmDiagnosisCode_8']==i,1,np.where(patient_data['Diag_Code_'+str(i)]==1,1,0 ))\n",
    "    patient_data['Diag_Code_'+str(i)] = np.where(patient_data['ClmDiagnosisCode_9']==i,1,np.where(patient_data['Diag_Code_'+str(i)]==1,1,0 ))\n",
    "    patient_data['Diag_Code_'+str(i)] = np.where(patient_data['ClmDiagnosisCode_10']==i,1,np.where(patient_data['Diag_Code_'+str(i)]==1,1,0 ))\n",
    "    \n",
    "    "
   ]
  },
  {
   "cell_type": "markdown",
   "metadata": {},
   "source": [
    "10. I'll add 3 new features: is_primary,is_secondary,is_tertiary"
   ]
  },
  {
   "cell_type": "code",
   "execution_count": 28,
   "metadata": {},
   "outputs": [],
   "source": [
    "patient_data['is_primary'] = np.where(patient_data['AttendingPhysician'].notnull(),1,0)\n",
    "patient_data['is_secondary'] = np.where(patient_data['OperatingPhysician'].notnull(),1,0)\n",
    "patient_data['is_tertiary'] = np.where(patient_data['OtherPhysician'].notnull(),1,0)"
   ]
  },
  {
   "cell_type": "markdown",
   "metadata": {},
   "source": [
    "11. I'll do some imputation related stuff now"
   ]
  },
  {
   "cell_type": "markdown",
   "metadata": {},
   "source": [
    "1) Replace the yes/no in PotentialFraud column with 1/0"
   ]
  },
  {
   "cell_type": "code",
   "execution_count": 23,
   "metadata": {},
   "outputs": [
    {
     "data": {
      "text/plain": [
       "No     345415\n",
       "Yes    212796\n",
       "Name: PotentialFraud, dtype: int64"
      ]
     },
     "execution_count": 23,
     "metadata": {},
     "output_type": "execute_result"
    }
   ],
   "source": [
    "patient_data['PotentialFraud'].value_counts()"
   ]
  },
  {
   "cell_type": "code",
   "execution_count": 34,
   "metadata": {},
   "outputs": [],
   "source": [
    "patient_data['PotentialFraud'] = np.where(patient_data['PotentialFraud']=='Yes',1,0)"
   ]
  },
  {
   "cell_type": "code",
   "execution_count": 35,
   "metadata": {},
   "outputs": [
    {
     "data": {
      "text/plain": [
       "0    345415\n",
       "1    212796\n",
       "Name: PotentialFraud, dtype: int64"
      ]
     },
     "execution_count": 35,
     "metadata": {},
     "output_type": "execute_result"
    }
   ],
   "source": [
    "patient_data['PotentialFraud'].value_counts()"
   ]
  },
  {
   "cell_type": "markdown",
   "metadata": {},
   "source": [
    "2) Replace the y/0 in RenalDiseaseIndicator with 1/0"
   ]
  },
  {
   "cell_type": "code",
   "execution_count": 26,
   "metadata": {},
   "outputs": [
    {
     "data": {
      "text/plain": [
       "0    448363\n",
       "Y    109848\n",
       "Name: RenalDiseaseIndicator, dtype: int64"
      ]
     },
     "execution_count": 26,
     "metadata": {},
     "output_type": "execute_result"
    }
   ],
   "source": [
    "patient_data['RenalDiseaseIndicator'].value_counts()"
   ]
  },
  {
   "cell_type": "code",
   "execution_count": 31,
   "metadata": {},
   "outputs": [],
   "source": [
    "patient_data['RenalDiseaseIndicator'] = np.where(patient_data['RenalDiseaseIndicator']=='Y',1,0)"
   ]
  },
  {
   "cell_type": "code",
   "execution_count": 32,
   "metadata": {},
   "outputs": [
    {
     "data": {
      "text/plain": [
       "0    448363\n",
       "1    109848\n",
       "Name: RenalDiseaseIndicator, dtype: int64"
      ]
     },
     "execution_count": 32,
     "metadata": {},
     "output_type": "execute_result"
    }
   ],
   "source": [
    "patient_data['RenalDiseaseIndicator'].value_counts()"
   ]
  },
  {
   "cell_type": "markdown",
   "metadata": {},
   "source": [
    "12. Adding 6 new features which indicate the count of top 3 diagnosis and procedure codes"
   ]
  },
  {
   "cell_type": "code",
   "execution_count": 29,
   "metadata": {},
   "outputs": [],
   "source": [
    "ClmProcedureCode_1_count = patient_data['ClmProcedureCode_1'].value_counts().to_dict()\n",
    "patient_data['ClmProcedureCode_1_count']=patient_data['ClmProcedureCode_1'].map(ClmProcedureCode_1_count)\n",
    "\n",
    "ClmProcedureCode_2_count = patient_data['ClmProcedureCode_2'].value_counts().to_dict()\n",
    "patient_data['ClmProcedureCode_2_count']=patient_data['ClmProcedureCode_2'].map(ClmProcedureCode_2_count)\n",
    "\n",
    "ClmProcedureCode_3_count = patient_data['ClmProcedureCode_3'].value_counts().to_dict()\n",
    "patient_data['ClmProcedureCode_3_count']=patient_data['ClmProcedureCode_3'].map(ClmProcedureCode_3_count)\n",
    "\n",
    "ClmDiagnosisCode_1_count = patient_data['ClmDiagnosisCode_1'].value_counts().to_dict()\n",
    "patient_data['ClmDiagnosisCode_1_count']=patient_data['ClmDiagnosisCode_1'].map(ClmDiagnosisCode_1_count)\n",
    "\n",
    "ClmDiagnosisCode_2_count = patient_data['ClmDiagnosisCode_2'].value_counts().to_dict()\n",
    "patient_data['ClmDiagnosisCode_2_count']=patient_data['ClmDiagnosisCode_2'].map(ClmDiagnosisCode_2_count)\n",
    "\n",
    "ClmDiagnosisCode_3_count = patient_data['ClmDiagnosisCode_3'].value_counts().to_dict()\n",
    "patient_data['ClmDiagnosisCode_3_count']=patient_data['ClmDiagnosisCode_3'].map(ClmDiagnosisCode_3_count)"
   ]
  },
  {
   "cell_type": "code",
   "execution_count": 37,
   "metadata": {},
   "outputs": [
    {
     "data": {
      "text/plain": [
       "(558211, 92)"
      ]
     },
     "execution_count": 37,
     "metadata": {},
     "output_type": "execute_result"
    }
   ],
   "source": [
    "patient_data.shape"
   ]
  },
  {
   "cell_type": "code",
   "execution_count": 40,
   "metadata": {},
   "outputs": [],
   "source": [
    "patient_data.to_csv('patient_data_file.csv')"
   ]
  }
 ],
 "metadata": {
  "kernelspec": {
   "display_name": "Python 3.7 (tensorflow)",
   "language": "python",
   "name": "tensorflow"
  },
  "language_info": {
   "codemirror_mode": {
    "name": "ipython",
    "version": 3
   },
   "file_extension": ".py",
   "mimetype": "text/x-python",
   "name": "python",
   "nbconvert_exporter": "python",
   "pygments_lexer": "ipython3",
   "version": "3.7.9"
  }
 },
 "nbformat": 4,
 "nbformat_minor": 4
}
